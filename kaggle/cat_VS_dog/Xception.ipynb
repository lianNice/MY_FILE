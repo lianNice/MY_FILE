{
 "cells": [
  {
   "cell_type": "markdown",
   "metadata": {},
   "source": [
    "# 导入相关库"
   ]
  },
  {
   "cell_type": "code",
   "execution_count": 1,
   "metadata": {},
   "outputs": [
    {
     "name": "stderr",
     "output_type": "stream",
     "text": [
      "Using TensorFlow backend.\n"
     ]
    }
   ],
   "source": [
    "from keras.models import *\n",
    "from keras.layers import *\n",
    "from keras.applications import *\n",
    "from keras.applications.xception import preprocess_input \n",
    "from keras.preprocessing.image import *\n",
    "import numpy as np\n",
    "from keras.models import load_model\n",
    "import h5py\n",
    "from  keras.optimizers import*\n",
    "from keras.models import Sequential,Model\n",
    "import pandas as pd"
   ]
  },
  {
   "cell_type": "markdown",
   "metadata": {},
   "source": [
    "# 模型构建"
   ]
  },
  {
   "cell_type": "code",
   "execution_count": 2,
   "metadata": {
    "collapsed": true
   },
   "outputs": [],
   "source": [
    "image_size=(299,299)\n",
    "width = image_size[0]\n",
    "height = image_size[1]\n",
    "input_tensor = Input((height, width, 3))\n",
    "x = input_tensor\n",
    "x = Lambda(xception.preprocess_input)(x)\n",
    "model_xce = Xception(input_tensor=x, weights='imagenet', include_top=False)\n",
    "\n",
    "\n",
    "for layers in model_xce.layers:\n",
    "    layers.trainable = False\n",
    "    \n",
    "x = GlobalAveragePooling2D()(model_xce.output)\n",
    "x = Dropout(0.25)(x)\n",
    "x = Dense(1)(x)\n",
    "x = Activation('sigmoid')(x)\n",
    "model = Model(model_xce.input, x)"
   ]
  },
  {
   "cell_type": "markdown",
   "metadata": {},
   "source": [
    "## 模型编译"
   ]
  },
  {
   "cell_type": "code",
   "execution_count": 3,
   "metadata": {
    "collapsed": true
   },
   "outputs": [],
   "source": [
    "model.compile(optimizer='adam',loss='binary_crossentropy',metrics=['accuracy'])"
   ]
  },
  {
   "cell_type": "markdown",
   "metadata": {},
   "source": [
    "# 准备数据"
   ]
  },
  {
   "cell_type": "code",
   "execution_count": 4,
   "metadata": {},
   "outputs": [
    {
     "name": "stderr",
     "output_type": "stream",
     "text": [
      "100%|██████████| 12500/12500 [03:44<00:00, 55.78it/s]\n"
     ]
    }
   ],
   "source": [
    "from scipy import misc\n",
    "from tqdm import tqdm\n",
    "np.random.seed(20171001)\n",
    "\n",
    "n = 25000\n",
    "X = np.zeros((n, 299, 299, 3), dtype=np.uint8)\n",
    "y = np.zeros((n, 1), dtype=np.uint8)\n",
    "\n",
    "for i in tqdm(range(n//2)):\n",
    "    X[i] = misc.imresize(misc.imread('../train/cat.%d.jpg' % i), image_size)\n",
    "    X[i+n//2] = misc.imresize(misc.imread('../train/dog.%d.jpg' % i),image_size)\n",
    "\n",
    "y[n//2:] = 1"
   ]
  },
  {
   "cell_type": "markdown",
   "metadata": {},
   "source": [
    "# 测试集和训练集的划分"
   ]
  },
  {
   "cell_type": "code",
   "execution_count": 7,
   "metadata": {
    "collapsed": true
   },
   "outputs": [],
   "source": [
    "from sklearn.model_selection import train_test_split\n",
    "X_train, X_valid, y_train, y_valid = train_test_split(X, y, test_size=0.1)"
   ]
  },
  {
   "cell_type": "code",
   "execution_count": 8,
   "metadata": {
    "collapsed": true
   },
   "outputs": [],
   "source": [
    "with h5py.File('train_data.h5') as h:\n",
    "    h.create_dataset(\"train\",data=X_train)\n",
    "    h.create_dataset(\"valid\", data=X_valid)\n",
    "    h.create_dataset(\"y_train\", data=y_train)\n",
    "    h.create_dataset(\"y_valid\", data=y_valid)"
   ]
  },
  {
   "cell_type": "code",
   "execution_count": 7,
   "metadata": {
    "scrolled": false
   },
   "outputs": [
    {
     "name": "stdout",
     "output_type": "stream",
     "text": [
      "Train on 22500 samples, validate on 2500 samples\n",
      "Epoch 1/20\n",
      "22500/22500 [==============================] - 1836s - loss: 0.1017 - acc: 0.9688 - val_loss: 0.0315 - val_acc: 0.9912\n",
      "Epoch 2/20\n",
      "22500/22500 [==============================] - 1833s - loss: 0.0617 - acc: 0.9788 - val_loss: 0.0269 - val_acc: 0.9912\n",
      "Epoch 3/20\n",
      "22500/22500 [==============================] - 1833s - loss: 0.0592 - acc: 0.9798 - val_loss: 0.0239 - val_acc: 0.9920\n",
      "Epoch 4/20\n",
      "22500/22500 [==============================] - 1833s - loss: 0.0577 - acc: 0.9812 - val_loss: 0.0222 - val_acc: 0.9916\n",
      "Epoch 5/20\n",
      "22500/22500 [==============================] - 1833s - loss: 0.0551 - acc: 0.9803 - val_loss: 0.0220 - val_acc: 0.9928\n",
      "Epoch 6/20\n",
      "22500/22500 [==============================] - 1833s - loss: 0.0474 - acc: 0.9836 - val_loss: 0.0216 - val_acc: 0.9908\n",
      "Epoch 7/20\n",
      "22500/22500 [==============================] - 1833s - loss: 0.0492 - acc: 0.9832 - val_loss: 0.0202 - val_acc: 0.9916\n",
      "Epoch 8/20\n",
      "22500/22500 [==============================] - 1833s - loss: 0.0519 - acc: 0.9824 - val_loss: 0.0217 - val_acc: 0.9920\n",
      "Epoch 9/20\n",
      "22500/22500 [==============================] - 1833s - loss: 0.0512 - acc: 0.9825 - val_loss: 0.0243 - val_acc: 0.9884\n",
      "Epoch 10/20\n",
      "22500/22500 [==============================] - 1833s - loss: 0.0484 - acc: 0.9826 - val_loss: 0.0208 - val_acc: 0.9896\n",
      "Epoch 11/20\n",
      "22500/22500 [==============================] - 1833s - loss: 0.0510 - acc: 0.9818 - val_loss: 0.0218 - val_acc: 0.9916\n",
      "Epoch 12/20\n",
      "22500/22500 [==============================] - 1833s - loss: 0.0492 - acc: 0.9831 - val_loss: 0.0224 - val_acc: 0.9916\n",
      "Epoch 13/20\n",
      "22500/22500 [==============================] - 1833s - loss: 0.0503 - acc: 0.9834 - val_loss: 0.0273 - val_acc: 0.9872\n"
     ]
    }
   ],
   "source": [
    "from keras.callbacks import EarlyStopping,ModelCheckpoint\n",
    "early_stopping = EarlyStopping(monitor='val_loss', patience=5)\n",
    "save_model = ModelCheckpoint('xception{epoch:02d}-{val_loss:.2f}.h5', save_best_only=True)\n",
    "history = model.fit(X_train, y_train, batch_size=16, epochs=20, validation_data=(X_valid, y_valid),\n",
    "          callbacks=[early_stopping,save_model])"
   ]
  },
  {
   "cell_type": "code",
   "execution_count": 8,
   "metadata": {},
   "outputs": [
    {
     "data": {
      "text/plain": [
       "72783"
      ]
     },
     "execution_count": 8,
     "metadata": {},
     "output_type": "execute_result"
    }
   ],
   "source": [
    "json_string = model.to_json()\n",
    "open('xception.json','w').write(json_string)"
   ]
  },
  {
   "cell_type": "code",
   "execution_count": 9,
   "metadata": {
    "collapsed": true
   },
   "outputs": [],
   "source": [
    "import matplotlib.pyplot as plt"
   ]
  },
  {
   "cell_type": "code",
   "execution_count": 10,
   "metadata": {},
   "outputs": [
    {
     "data": {
      "image/png": "[encoded data removed]",
      "text/plain": [
       "<matplotlib.figure.Figure at 0x7f4e04096198>"
      ]
     },
     "metadata": {},
     "output_type": "display_data"
    }
   ],
   "source": [
    "plt.plot(history.history['val_acc'])\n",
    "plt.title('model accuracy')\n",
    "plt.ylabel('accuracy')\n",
    "plt.xlabel('epoch')\n",
    "plt.legend(['train', 'test'], loc='upper left')\n",
    "plt.show()"
   ]
  },
  {
   "cell_type": "code",
   "execution_count": 11,
   "metadata": {},
   "outputs": [
    {
     "data": {
      "image/png": "[encoded data removed]",
      "text/plain": [
       "<matplotlib.figure.Figure at 0x7f4df9f937f0>"
      ]
     },
     "metadata": {},
     "output_type": "display_data"
    }
   ],
   "source": [
    "# summarize history for loss\n",
    "plt.plot(history.history['loss'])\n",
    "plt.plot(history.history['val_loss'])\n",
    "plt.title('model loss')\n",
    "plt.ylabel('loss')\n",
    "plt.xlabel('epoch')\n",
    "plt.legend(['train', 'test'], loc='upper left')\n",
    "plt.show()"
   ]
  },
  {
   "cell_type": "code",
   "execution_count": null,
   "metadata": {
    "collapsed": true
   },
   "outputs": [],
   "source": [
    "# 预测结果"
   ]
  },
  {
   "cell_type": "code",
   "execution_count": 17,
   "metadata": {
    "collapsed": true
   },
   "outputs": [],
   "source": [
    "# 加载最佳模型"
   ]
  },
  {
   "cell_type": "code",
   "execution_count": null,
   "metadata": {},
   "outputs": [],
   "source": [
    "model = model_from_json(open('xception.json').read())\n",
    "model.load_weights('xception06-0.02.h5')"
   ]
  },
  {
   "cell_type": "code",
   "execution_count": 20,
   "metadata": {},
   "outputs": [
    {
     "name": "stderr",
     "output_type": "stream",
     "text": [
      "100%|██████████| 12500/12500 [01:49<00:00, 114.63it/s]\n"
     ]
    }
   ],
   "source": [
    "n = 25000\n",
    "filenames = os.listdir('../test')\n",
    "file_ob_path = [os.path.join('../test',file) for file in filenames]\n",
    "n = len(file_ob_path)\n",
    "\n",
    "X_test = np.zeros((n, 299, 299, 3), dtype=np.uint8)\n",
    "\n",
    "\n",
    "for i in tqdm(range(n)):\n",
    "    X_test[i] = misc.imresize(misc.imread(file_ob_path[i]), (299,299))"
   ]
  },
  {
   "cell_type": "code",
   "execution_count": 23,
   "metadata": {},
   "outputs": [
    {
     "name": "stdout",
     "output_type": "stream",
     "text": [
      "12500/12500 [==============================] - 1057s  \n"
     ]
    }
   ],
   "source": [
    "y_pred = model.predict(X_test,batch_size=16, verbose=1)"
   ]
  },
  {
   "cell_type": "code",
   "execution_count": 24,
   "metadata": {
    "collapsed": true
   },
   "outputs": [],
   "source": [
    "y_pred = y_pred.clip(min=0.005, max=0.995)\n",
    "_id = [int(i.split('.')[0]) for i in filenames]"
   ]
  },
  {
   "cell_type": "code",
   "execution_count": 26,
   "metadata": {
    "collapsed": true
   },
   "outputs": [],
   "source": [
    "import pandas as pd"
   ]
  },
  {
   "cell_type": "code",
   "execution_count": 27,
   "metadata": {
    "collapsed": true
   },
   "outputs": [],
   "source": [
    "df = pd.DataFrame({'id':_id,'label':y_pred.squeeze()})\n",
    "df = df.sort_values(by='id')\n",
    "df.to_csv('sample_submission_xception.csv',index=False)"
   ]
  },
  {
   "cell_type": "code",
   "execution_count": null,
   "metadata": {
    "collapsed": true
   },
   "outputs": [],
   "source": [
    "# 结果0.04881"
   ]
  },
  {
   "cell_type": "markdown",
   "metadata": {
    "collapsed": true
   },
   "source": [
    "# fine-tune"
   ]
  },
  {
   "cell_type": "code",
   "execution_count": 28,
   "metadata": {
    "collapsed": true
   },
   "outputs": [],
   "source": [
    "model = model_from_json(open('xception.json').read())\n",
    "model.load_weights('xception06-0.02.h5')"
   ]
  },
  {
   "cell_type": "code",
   "execution_count": null,
   "metadata": {
    "collapsed": true
   },
   "outputs": [],
   "source": [
    "with h5py.File('train_data.h5', 'r') as h:\n",
    "    X_train = np.array(h['train'])\n",
    "    y_train = np.array(h['y_train'])\n",
    "    X_valid = np.array(h['valid'])\n",
    "    y_valid = np.array(h['y_valid'])"
   ]
  },
  {
   "cell_type": "code",
   "execution_count": 16,
   "metadata": {
    "collapsed": true
   },
   "outputs": [],
   "source": [
    "#list(zip([x.name for x in model.layers], range(len(model.layers))))"
   ]
  },
  {
   "cell_type": "code",
   "execution_count": 29,
   "metadata": {
    "collapsed": true
   },
   "outputs": [],
   "source": [
    "for layer in model.layers[:106]:\n",
    "    layer.trainable = False\n",
    "for layer in model.layers[106:]:\n",
    "    layer.trainable = True"
   ]
  },
  {
   "cell_type": "code",
   "execution_count": 30,
   "metadata": {
    "collapsed": true
   },
   "outputs": [],
   "source": [
    "from keras.callbacks import EarlyStopping,ModelCheckpoint,ReduceLROnPlateau"
   ]
  },
  {
   "cell_type": "code",
   "execution_count": 31,
   "metadata": {
    "collapsed": true
   },
   "outputs": [],
   "source": [
    "early_stopping = EarlyStopping(monitor='val_loss', patience=3)\n",
    "auto_lr = ReduceLROnPlateau(monitor='val_loss', factor=0.1, patience=3, verbose=0, \n",
    "                            mode='auto', epsilon=0.0001, cooldown=0, min_lr=0)\n",
    "save_model = ModelCheckpoint('Xception_fine_tune{epoch:02d}-{val_loss:.2f}.h5', save_best_only=True)\n",
    "optimizer=Adam(0.001)\n",
    "model.compile(optimizer,loss='binary_crossentropy',metrics=['accuracy'])"
   ]
  },
  {
   "cell_type": "code",
   "execution_count": 32,
   "metadata": {},
   "outputs": [
    {
     "name": "stdout",
     "output_type": "stream",
     "text": [
      "Train on 22500 samples, validate on 2500 samples\n",
      "Epoch 1/10\n",
      "22500/22500 [==============================] - 2390s - loss: 0.0545 - acc: 0.9812 - val_loss: 0.0243 - val_acc: 0.9920\n",
      "Epoch 2/10\n",
      "22500/22500 [==============================] - 2384s - loss: 0.0304 - acc: 0.9895 - val_loss: 0.0215 - val_acc: 0.9908\n",
      "Epoch 3/10\n",
      "22500/22500 [==============================] - 2384s - loss: 0.0234 - acc: 0.9921 - val_loss: 0.0142 - val_acc: 0.9932\n",
      "Epoch 4/10\n",
      "22500/22500 [==============================] - 2383s - loss: 0.0168 - acc: 0.9940 - val_loss: 0.0142 - val_acc: 0.9952\n",
      "Epoch 5/10\n",
      "22500/22500 [==============================] - 2383s - loss: 0.0121 - acc: 0.9955 - val_loss: 0.0388 - val_acc: 0.9884\n",
      "Epoch 6/10\n",
      "22500/22500 [==============================] - 2383s - loss: 0.0130 - acc: 0.9957 - val_loss: 0.0217 - val_acc: 0.9924\n",
      "Epoch 7/10\n",
      "22500/22500 [==============================] - 2384s - loss: 0.0123 - acc: 0.9970 - val_loss: 0.0129 - val_acc: 0.9944\n",
      "Epoch 8/10\n",
      "22500/22500 [==============================] - 2384s - loss: 0.0093 - acc: 0.9971 - val_loss: 0.0265 - val_acc: 0.9928\n",
      "Epoch 9/10\n",
      "22500/22500 [==============================] - 2384s - loss: 0.0077 - acc: 0.9977 - val_loss: 0.0199 - val_acc: 0.9940\n",
      "Epoch 10/10\n",
      "22500/22500 [==============================] - 2383s - loss: 0.0066 - acc: 0.9980 - val_loss: 0.0244 - val_acc: 0.9936\n"
     ]
    }
   ],
   "source": [
    "history_1 = model.fit(X_train, y_train, batch_size=16, epochs=10, validation_data=(X_valid, y_valid),\n",
    "                      callbacks=[early_stopping,auto_lr,save_model])"
   ]
  },
  {
   "cell_type": "code",
   "execution_count": 33,
   "metadata": {},
   "outputs": [
    {
     "data": {
      "image/png": "[encoded data removed]",
      "text/plain": [
       "<matplotlib.figure.Figure at 0x7f4d9c5013c8>"
      ]
     },
     "metadata": {},
     "output_type": "display_data"
    }
   ],
   "source": [
    "plt.plot(history_1.history['val_acc'])\n",
    "plt.title('model accuracy')\n",
    "plt.ylabel('accuracy')\n",
    "plt.xlabel('epoch')\n",
    "plt.legend(['train', 'test'], loc='upper left')\n",
    "plt.show()"
   ]
  },
  {
   "cell_type": "code",
   "execution_count": 34,
   "metadata": {},
   "outputs": [
    {
     "data": {
      "image/png": "[encoded data removed]",
      "text/plain": [
       "<matplotlib.figure.Figure at 0x7f4d740b4f60>"
      ]
     },
     "metadata": {},
     "output_type": "display_data"
    }
   ],
   "source": [
    "plt.plot(history_1.history['loss'])\n",
    "plt.plot(history_1.history['val_loss'])\n",
    "plt.title('model loss')\n",
    "plt.ylabel('loss')\n",
    "plt.xlabel('epoch')\n",
    "plt.legend(['train', 'test'], loc='upper left')\n",
    "plt.show()"
   ]
  },
  {
   "cell_type": "code",
   "execution_count": 35,
   "metadata": {
    "collapsed": true
   },
   "outputs": [],
   "source": [
    "# 加载最佳模型"
   ]
  },
  {
   "cell_type": "code",
   "execution_count": 36,
   "metadata": {
    "collapsed": true
   },
   "outputs": [],
   "source": [
    "model = model_from_json(open('xception.json').read())\n",
    "model.load_weights('Xception_fine_tune06-0.01.h5')"
   ]
  },
  {
   "cell_type": "code",
   "execution_count": 37,
   "metadata": {},
   "outputs": [
    {
     "name": "stdout",
     "output_type": "stream",
     "text": [
      "12500/12500 [==============================] - 1057s  \n"
     ]
    }
   ],
   "source": [
    "y_pred = model.predict(X_test,batch_size=16, verbose=1)"
   ]
  },
  {
   "cell_type": "code",
   "execution_count": 39,
   "metadata": {
    "collapsed": true
   },
   "outputs": [],
   "source": [
    "y_pred = y_pred.clip(min=0.005, max=0.995)\n",
    "_id = [int(i.split('.')[0]) for i in filenames]"
   ]
  },
  {
   "cell_type": "code",
   "execution_count": 40,
   "metadata": {
    "collapsed": true
   },
   "outputs": [],
   "source": [
    "df = pd.DataFrame({'id':_id,'label':y_pred.squeeze()})\n",
    "df = df.sort_values(by='id')\n",
    "df.to_csv('sample_submission_xception_fn.csv',index=False)"
   ]
  },
  {
   "cell_type": "code",
   "execution_count": null,
   "metadata": {
    "collapsed": true
   },
   "outputs": [],
   "source": [
    "# 0.04266"
   ]
  }
 ],
 "metadata": {
  "kernelspec": {
   "display_name": "Python 3",
   "language": "python",
   "name": "python3"
  },
  "language_info": {
   "codemirror_mode": {
    "name": "ipython",
    "version": 3
   },
   "file_extension": ".py",
   "mimetype": "text/x-python",
   "name": "python",
   "nbconvert_exporter": "python",
   "pygments_lexer": "ipython3",
   "version": "3.6.2"
  }
 },
 "nbformat": 4,
 "nbformat_minor": 2
}
