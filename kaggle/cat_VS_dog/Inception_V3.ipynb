{
 "cells": [
  {
   "cell_type": "code",
   "execution_count": 1,
   "metadata": {},
   "outputs": [
    {
     "name": "stderr",
     "output_type": "stream",
     "text": [
      "Using TensorFlow backend.\n"
     ]
    }
   ],
   "source": [
    "from keras.layers import*\n",
    "from keras.applications.inception_v3 import InceptionV3,preprocess_input\n",
    "from keras.models import Model\n",
    "from keras.preprocessing.image import ImageDataGenerator\n",
    "from keras.callbacks import EarlyStopping,ModelCheckpoint,ReduceLROnPlateau\n",
    "from scipy import misc\n",
    "from tqdm import tqdm\n",
    "from sklearn.model_selection import train_test_split\n",
    "import h5py\n",
    "import os\n",
    "import pandas as pd\n",
    "from keras.optimizers import Adam"
   ]
  },
  {
   "cell_type": "code",
   "execution_count": 2,
   "metadata": {
    "collapsed": true
   },
   "outputs": [],
   "source": [
    "image_size=(299,299)\n",
    "width = image_size[0]\n",
    "height = image_size[1]\n",
    "input_tensor = Input((height, width, 3))\n",
    "x = input_tensor\n",
    "x = Lambda(preprocess_input)(x)\n",
    "model_inc = InceptionV3(input_tensor=x, weights='imagenet', include_top=False)\n",
    "\n",
    "\n",
    "for layers in model_inc.layers:\n",
    "    layers.trainable = False\n",
    "    \n",
    "x = GlobalAveragePooling2D()(model_inc.output)\n",
    "x = Dropout(0.25)(x)\n",
    "x = Dense(1)(x)\n",
    "\n",
    "x = Activation('sigmoid')(x)\n",
    "model = Model(model_inc.input, x)"
   ]
  },
  {
   "cell_type": "code",
   "execution_count": 3,
   "metadata": {
    "collapsed": true
   },
   "outputs": [],
   "source": [
    "with h5py.File('train_data.h5', 'r') as h:\n",
    "    X_train = np.array(h['train'])\n",
    "    y_train = np.array(h['y_train'])\n",
    "    X_valid = np.array(h['valid'])\n",
    "    y_valid = np.array(h['y_valid'])"
   ]
  },
  {
   "cell_type": "code",
   "execution_count": 5,
   "metadata": {},
   "outputs": [
    {
     "name": "stdout",
     "output_type": "stream",
     "text": [
      "Train on 22500 samples, validate on 2500 samples\n",
      "Epoch 1/20\n",
      "22500/22500 [==============================] - 1246s - loss: 0.1246 - acc: 0.9535 - val_loss: 0.0546 - val_acc: 0.9832\n",
      "Epoch 2/20\n",
      "22500/22500 [==============================] - 1241s - loss: 0.1056 - acc: 0.9612 - val_loss: 0.0474 - val_acc: 0.9840\n",
      "Epoch 3/20\n",
      "22500/22500 [==============================] - 1241s - loss: 0.1027 - acc: 0.9617 - val_loss: 0.0473 - val_acc: 0.9816\n",
      "Epoch 4/20\n",
      "22500/22500 [==============================] - 1241s - loss: 0.1020 - acc: 0.9621 - val_loss: 0.0514 - val_acc: 0.9804\n",
      "Epoch 5/20\n",
      "22500/22500 [==============================] - 1240s - loss: 0.1054 - acc: 0.9611 - val_loss: 0.0485 - val_acc: 0.9800\n",
      "Epoch 6/20\n",
      "22500/22500 [==============================] - 1241s - loss: 0.1018 - acc: 0.9617 - val_loss: 0.0465 - val_acc: 0.9812\n",
      "Epoch 7/20\n",
      "22500/22500 [==============================] - 1240s - loss: 0.0992 - acc: 0.9631 - val_loss: 0.0506 - val_acc: 0.9812\n",
      "Epoch 8/20\n",
      "22500/22500 [==============================] - 1240s - loss: 0.0971 - acc: 0.9650 - val_loss: 0.0468 - val_acc: 0.9812\n",
      "Epoch 9/20\n",
      "22500/22500 [==============================] - 1240s - loss: 0.1060 - acc: 0.9623 - val_loss: 0.0511 - val_acc: 0.9784\n",
      "Epoch 10/20\n",
      "22500/22500 [==============================] - 1240s - loss: 0.0950 - acc: 0.9643 - val_loss: 0.0509 - val_acc: 0.9828\n",
      "Epoch 11/20\n",
      "22500/22500 [==============================] - 1240s - loss: 0.1002 - acc: 0.9636 - val_loss: 0.0532 - val_acc: 0.9796\n",
      "Epoch 12/20\n",
      "22500/22500 [==============================] - 1242s - loss: 0.0940 - acc: 0.9652 - val_loss: 0.0520 - val_acc: 0.9816\n"
     ]
    }
   ],
   "source": [
    "early_stopping = EarlyStopping(monitor='val_loss', patience=5)\n",
    "save_model = ModelCheckpoint('inceptionv3{epoch:02d}-{val_loss:.2f}.h5', save_best_only=True)\n",
    "model.compile(optimizer='adam',loss='binary_crossentropy',metrics=['accuracy'])\n",
    "\n",
    "history = model.fit(X_train, y_train, batch_size=16, epochs=20, validation_data=(X_valid, y_valid),\n",
    "                    callbacks=[early_stopping,save_model])"
   ]
  },
  {
   "cell_type": "code",
   "execution_count": 6,
   "metadata": {
    "collapsed": true
   },
   "outputs": [],
   "source": [
    "import matplotlib.pyplot as plt"
   ]
  },
  {
   "cell_type": "code",
   "execution_count": 7,
   "metadata": {},
   "outputs": [
    {
     "data": {
      "image/png": "[encoded data removed]",
      "text/plain": [
       "<matplotlib.figure.Figure at 0x7f242069e198>"
      ]
     },
     "metadata": {},
     "output_type": "display_data"
    }
   ],
   "source": [
    "plt.plot(history.history['val_acc'])\n",
    "plt.title('model accuracy')\n",
    "plt.ylabel('accuracy')\n",
    "plt.xlabel('epoch')\n",
    "plt.legend(['train', 'test'], loc='upper left')\n",
    "plt.show()"
   ]
  },
  {
   "cell_type": "code",
   "execution_count": 8,
   "metadata": {},
   "outputs": [
    {
     "data": {
      "image/png": "[encoded data removed]",
      "text/plain": [
       "<matplotlib.figure.Figure at 0x7f242b64c3c8>"
      ]
     },
     "metadata": {},
     "output_type": "display_data"
    }
   ],
   "source": [
    "plt.plot(history.history['loss'])\n",
    "plt.plot(history.history['val_loss'])\n",
    "plt.title('model loss')\n",
    "plt.ylabel('loss')\n",
    "plt.xlabel('epoch')\n",
    "plt.legend(['train', 'test'], loc='upper left')\n",
    "plt.show()"
   ]
  },
  {
   "cell_type": "markdown",
   "metadata": {},
   "source": [
    "# 模型保存"
   ]
  },
  {
   "cell_type": "code",
   "execution_count": 9,
   "metadata": {},
   "outputs": [
    {
     "data": {
      "text/plain": [
       "147973"
      ]
     },
     "execution_count": 9,
     "metadata": {},
     "output_type": "execute_result"
    }
   ],
   "source": [
    "json_string = model.to_json()\n",
    "open('inceptionV3.json','w').write(json_string)"
   ]
  },
  {
   "cell_type": "markdown",
   "metadata": {},
   "source": [
    "# 加载最佳模型"
   ]
  },
  {
   "cell_type": "code",
   "execution_count": 10,
   "metadata": {
    "collapsed": true
   },
   "outputs": [],
   "source": [
    "from keras.models import model_from_json"
   ]
  },
  {
   "cell_type": "code",
   "execution_count": 11,
   "metadata": {
    "collapsed": true
   },
   "outputs": [],
   "source": [
    "model = model_from_json(open('inceptionV3.json').read())\n",
    "model.load_weights('inceptionv305-0.05.h5')"
   ]
  },
  {
   "cell_type": "markdown",
   "metadata": {},
   "source": [
    "# 预测结果"
   ]
  },
  {
   "cell_type": "code",
   "execution_count": 13,
   "metadata": {},
   "outputs": [
    {
     "name": "stderr",
     "output_type": "stream",
     "text": [
      "100%|██████████| 12500/12500 [01:48<00:00, 115.06it/s]\n"
     ]
    }
   ],
   "source": [
    "n = 25000\n",
    "filenames = os.listdir('../test')\n",
    "file_ob_path = [os.path.join('../test',file) for file in filenames]\n",
    "n = len(file_ob_path)\n",
    "\n",
    "X_test = np.zeros((n, 299, 299, 3), dtype=np.uint8)\n",
    "\n",
    "\n",
    "for i in tqdm(range(n)):\n",
    "    X_test[i] = misc.imresize(misc.imread(file_ob_path[i]), (299,299))"
   ]
  },
  {
   "cell_type": "code",
   "execution_count": 14,
   "metadata": {},
   "outputs": [
    {
     "name": "stdout",
     "output_type": "stream",
     "text": [
      "12500/12500 [==============================] - 680s   \n"
     ]
    }
   ],
   "source": [
    "y_pred = model.predict(X_test,batch_size=16, verbose=1)"
   ]
  },
  {
   "cell_type": "code",
   "execution_count": 15,
   "metadata": {
    "collapsed": true
   },
   "outputs": [],
   "source": [
    "y_pred = y_pred.clip(min=0.005, max=0.995)\n",
    "_id = [int(i.split('.')[0]) for i in filenames]"
   ]
  },
  {
   "cell_type": "code",
   "execution_count": 16,
   "metadata": {
    "collapsed": true
   },
   "outputs": [],
   "source": [
    "df = pd.DataFrame({'id':_id,'label':y_pred.squeeze()})\n",
    "df = df.sort_values(by='id')\n",
    "df.to_csv('sample_submission_inV3.csv',index=False)"
   ]
  },
  {
   "cell_type": "code",
   "execution_count": null,
   "metadata": {
    "collapsed": true
   },
   "outputs": [],
   "source": [
    "# 结果为0.06620"
   ]
  },
  {
   "cell_type": "markdown",
   "metadata": {},
   "source": [
    "# Fine-tune"
   ]
  },
  {
   "cell_type": "code",
   "execution_count": null,
   "metadata": {
    "collapsed": true
   },
   "outputs": [],
   "source": [
    "model = model_from_json(open('inceptionV3.json').read())\n",
    "model.load_weights('inceptionv305-0.05.h5')"
   ]
  },
  {
   "cell_type": "code",
   "execution_count": 3,
   "metadata": {
    "collapsed": true
   },
   "outputs": [],
   "source": [
    "with h5py.File('train_data.h5', 'r') as h:\n",
    "    X_train = np.array(h['train'])\n",
    "    y_train = np.array(h['y_train'])\n",
    "    X_valid = np.array(h['valid'])\n",
    "    y_valid = np.array(h['y_valid'])"
   ]
  },
  {
   "cell_type": "code",
   "execution_count": 4,
   "metadata": {
    "collapsed": true
   },
   "outputs": [],
   "source": [
    "#list(zip([x.name for x in model.layers], range(len(model.layers))))"
   ]
  },
  {
   "cell_type": "code",
   "execution_count": 17,
   "metadata": {
    "collapsed": true
   },
   "outputs": [],
   "source": [
    "for layer in model.layers[:258]:\n",
    "    layer.trainable = False\n",
    "for layer in model.layers[258:]:\n",
    "    layer.trainable = True"
   ]
  },
  {
   "cell_type": "code",
   "execution_count": 18,
   "metadata": {
    "collapsed": true
   },
   "outputs": [],
   "source": [
    "early_stopping = EarlyStopping(monitor='val_loss', patience=3)\n",
    "auto_lr = ReduceLROnPlateau(monitor='val_loss', factor=0.1, patience=3, verbose=0, \n",
    "                            mode='auto', epsilon=0.0001, cooldown=0, min_lr=0)\n",
    "save_model = ModelCheckpoint('Inception_V3{epoch:02d}-{val_loss:.2f}.h5', save_best_only=True)\n",
    "optimizer=Adam(lr=0.001)\n",
    "model.compile(optimizer,loss='binary_crossentropy',metrics=['accuracy'])"
   ]
  },
  {
   "cell_type": "code",
   "execution_count": 19,
   "metadata": {},
   "outputs": [
    {
     "name": "stdout",
     "output_type": "stream",
     "text": [
      "Train on 22500 samples, validate on 2500 samples\n",
      "Epoch 1/10\n",
      "22500/22500 [==============================] - 1475s - loss: 0.0709 - acc: 0.9776 - val_loss: 0.0322 - val_acc: 0.9868\n",
      "Epoch 2/10\n",
      "22500/22500 [==============================] - 1463s - loss: 0.0341 - acc: 0.9879 - val_loss: 0.0248 - val_acc: 0.9904\n",
      "Epoch 3/10\n",
      "22500/22500 [==============================] - 1463s - loss: 0.0280 - acc: 0.9900 - val_loss: 0.0189 - val_acc: 0.9928\n",
      "Epoch 4/10\n",
      "22500/22500 [==============================] - 1463s - loss: 0.0201 - acc: 0.9929 - val_loss: 0.0294 - val_acc: 0.9908\n",
      "Epoch 5/10\n",
      "22500/22500 [==============================] - 1463s - loss: 0.0217 - acc: 0.9929 - val_loss: 0.0211 - val_acc: 0.9924\n",
      "Epoch 6/10\n",
      "22500/22500 [==============================] - 1463s - loss: 0.0163 - acc: 0.9944 - val_loss: 0.0298 - val_acc: 0.9904\n",
      "Epoch 7/10\n",
      "22500/22500 [==============================] - 1463s - loss: 0.0143 - acc: 0.9952 - val_loss: 0.0216 - val_acc: 0.9920\n"
     ]
    }
   ],
   "source": [
    "history_1 = model.fit(X_train, y_train, batch_size=16, epochs=10, validation_data=(X_valid, y_valid),\n",
    "                      callbacks=[early_stopping,auto_lr,save_model])"
   ]
  },
  {
   "cell_type": "code",
   "execution_count": 20,
   "metadata": {},
   "outputs": [
    {
     "data": {
      "image/png": "[encoded data removed]",
      "text/plain": [
       "<matplotlib.figure.Figure at 0x7f229bfa3518>"
      ]
     },
     "metadata": {},
     "output_type": "display_data"
    }
   ],
   "source": [
    "plt.plot(history_1.history['val_acc'])\n",
    "plt.title('model accuracy')\n",
    "plt.ylabel('accuracy')\n",
    "plt.xlabel('epoch')\n",
    "plt.legend(['train', 'test'], loc='upper left')\n",
    "plt.show()"
   ]
  },
  {
   "cell_type": "code",
   "execution_count": 21,
   "metadata": {},
   "outputs": [
    {
     "data": {
      "image/png": "[encoded data removed]",
      "text/plain": [
       "<matplotlib.figure.Figure at 0x7f229acbc588>"
      ]
     },
     "metadata": {},
     "output_type": "display_data"
    }
   ],
   "source": [
    "plt.plot(history_1.history['loss'])\n",
    "plt.plot(history_1.history['val_loss'])\n",
    "plt.title('model loss')\n",
    "plt.ylabel('loss')\n",
    "plt.xlabel('epoch')\n",
    "plt.legend(['train', 'test'], loc='upper left')\n",
    "plt.show()"
   ]
  },
  {
   "cell_type": "code",
   "execution_count": null,
   "metadata": {
    "collapsed": true
   },
   "outputs": [],
   "source": [
    "# 加载最佳模型"
   ]
  },
  {
   "cell_type": "code",
   "execution_count": 22,
   "metadata": {
    "collapsed": true
   },
   "outputs": [],
   "source": [
    "model = model_from_json(open('inceptionV3.json').read())\n",
    "model.load_weights('Inception_V302-0.02.h5')"
   ]
  },
  {
   "cell_type": "code",
   "execution_count": 17,
   "metadata": {
    "collapsed": true
   },
   "outputs": [],
   "source": [
    "# 预测结果"
   ]
  },
  {
   "cell_type": "code",
   "execution_count": 26,
   "metadata": {},
   "outputs": [
    {
     "name": "stderr",
     "output_type": "stream",
     "text": [
      "100%|██████████| 12500/12500 [01:45<00:00, 118.22it/s]\n"
     ]
    }
   ],
   "source": [
    "filenames = os.listdir('../test')\n",
    "file_ob_path = [os.path.join('../test',file) for file in filenames]\n",
    "n = len(file_ob_path)\n",
    "\n",
    "X_test = np.zeros((n, 299, 299, 3), dtype=np.uint8)\n",
    "\n",
    "for i in tqdm(range(n)):\n",
    "    X_test[i] = misc.imresize(misc.imread(file_ob_path[i]), (299,299))\n"
   ]
  },
  {
   "cell_type": "code",
   "execution_count": 27,
   "metadata": {},
   "outputs": [
    {
     "name": "stdout",
     "output_type": "stream",
     "text": [
      "12500/12500 [==============================] - 679s   \n"
     ]
    }
   ],
   "source": [
    "y_pred = model.predict(X_test,batch_size=16, verbose=1)"
   ]
  },
  {
   "cell_type": "code",
   "execution_count": 28,
   "metadata": {
    "collapsed": true
   },
   "outputs": [],
   "source": [
    "y_pred = y_pred.clip(min=0.005, max=0.995)\n",
    "_id = [int(i.split('.')[0]) for i in filenames]\n",
    "df = pd.DataFrame({'id':_id,'label':y_pred.squeeze()})\n",
    "df = df.sort_values(by='id')\n",
    "df.to_csv('sample_submission_inV3_fn.csv',index=False)"
   ]
  },
  {
   "cell_type": "code",
   "execution_count": null,
   "metadata": {
    "collapsed": true
   },
   "outputs": [],
   "source": [
    "# 结果"
   ]
  },
  {
   "cell_type": "code",
   "execution_count": 1,
   "metadata": {
    "collapsed": true
   },
   "outputs": [],
   "source": [
    "#0.05190"
   ]
  },
  {
   "cell_type": "code",
   "execution_count": null,
   "metadata": {
    "collapsed": true
   },
   "outputs": [],
   "source": []
  }
 ],
 "metadata": {
  "kernelspec": {
   "display_name": "Python 3",
   "language": "python",
   "name": "python3"
  },
  "language_info": {
   "codemirror_mode": {
    "name": "ipython",
    "version": 3
   },
   "file_extension": ".py",
   "mimetype": "text/x-python",
   "name": "python",
   "nbconvert_exporter": "python",
   "pygments_lexer": "ipython3",
   "version": "3.6.2"
  }
 },
 "nbformat": 4,
 "nbformat_minor": 2
}
