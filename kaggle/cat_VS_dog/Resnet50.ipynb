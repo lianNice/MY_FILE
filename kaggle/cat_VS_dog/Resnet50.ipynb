{
 "cells": [
  {
   "cell_type": "markdown",
   "metadata": {},
   "source": [
    "# 导入相关库"
   ]
  },
  {
   "cell_type": "code",
   "execution_count": 2,
   "metadata": {
    "collapsed": true
   },
   "outputs": [],
   "source": [
    "from keras.layers import*\n",
    "from keras.applications.resnet50 import ResNet50,preprocess_input\n",
    "from keras.models import Model\n",
    "from keras.preprocessing.image import ImageDataGenerator\n",
    "from keras.callbacks import EarlyStopping,ModelCheckpoint,ReduceLROnPlateau\n",
    "from scipy import misc\n",
    "from tqdm import tqdm\n",
    "from sklearn.model_selection import train_test_split\n",
    "import h5py\n",
    "import os\n",
    "import pandas as pd\n",
    "from keras.optimizers import Adam\n",
    "from keras.models import model_from_json"
   ]
  },
  {
   "cell_type": "markdown",
   "metadata": {},
   "source": [
    "# 模型构建"
   ]
  },
  {
   "cell_type": "code",
   "execution_count": 5,
   "metadata": {
    "collapsed": true
   },
   "outputs": [],
   "source": [
    "image_size=(224,224)\n",
    "width = image_size[0]\n",
    "height = image_size[1]\n",
    "input_tensor = Input((height, width, 3))\n",
    "x = input_tensor\n",
    "model_res = ResNet50(input_tensor=x, weights='imagenet', include_top=False)\n",
    "\n",
    "\n",
    "for layers in model_res.layers:\n",
    "    layers.trainable = False\n",
    "    \n",
    "x = GlobalAveragePooling2D()(model_res.output)\n",
    "x = Dropout(0.25)(x)\n",
    "x = Dense(1)(x)\n",
    "x = Activation('sigmoid')(x)\n",
    "model = Model(model_res.input, x)"
   ]
  },
  {
   "cell_type": "markdown",
   "metadata": {},
   "source": [
    "# 读取数据"
   ]
  },
  {
   "cell_type": "code",
   "execution_count": 35,
   "metadata": {},
   "outputs": [
    {
     "name": "stderr",
     "output_type": "stream",
     "text": [
      "100%|██████████| 12500/12500 [03:53<00:00, 53.59it/s]\n"
     ]
    }
   ],
   "source": [
    "np.random.seed(20171001)\n",
    "\n",
    "n = 25000\n",
    "X = np.zeros((n, 224, 224, 3), dtype=np.float16)\n",
    "y = np.zeros((n, 1), dtype=np.uint8)\n",
    "\n",
    "for i in tqdm(range(n//2)):\n",
    "    X[i] = misc.imresize(misc.imread('../train/cat.%d.jpg' % i), image_size)\n",
    "    X[i+n//2] = misc.imresize(misc.imread('../train/dog.%d.jpg' % i),image_size)\n",
    "\n",
    "y[n//2:] = 1"
   ]
  },
  {
   "cell_type": "markdown",
   "metadata": {},
   "source": [
    "## 数据预处理"
   ]
  },
  {
   "cell_type": "code",
   "execution_count": 36,
   "metadata": {
    "collapsed": true
   },
   "outputs": [],
   "source": [
    "X = X[..., ::-1]\n",
    "X[..., 0] -= 103.939\n",
    "X[..., 1] -= 116.779\n",
    "X[..., 2] -= 123.68"
   ]
  },
  {
   "cell_type": "code",
   "execution_count": 39,
   "metadata": {
    "collapsed": true
   },
   "outputs": [],
   "source": [
    "with h5py.File('X.h5') as h:\n",
    "    h.create_dataset(\"X\",data=X)"
   ]
  },
  {
   "cell_type": "code",
   "execution_count": 3,
   "metadata": {
    "collapsed": true
   },
   "outputs": [],
   "source": [
    "with h5py.File('X.h5', 'r') as h:\n",
    "    X = np.array(h['X'])"
   ]
  },
  {
   "cell_type": "markdown",
   "metadata": {},
   "source": [
    "## 切分训练集和测试集"
   ]
  },
  {
   "cell_type": "code",
   "execution_count": 6,
   "metadata": {
    "collapsed": true
   },
   "outputs": [],
   "source": [
    "X_train, X_valid, y_train, y_valid = train_test_split(X, y, test_size=0.1)"
   ]
  },
  {
   "cell_type": "markdown",
   "metadata": {},
   "source": [
    "### 保存数据"
   ]
  },
  {
   "cell_type": "code",
   "execution_count": 7,
   "metadata": {
    "collapsed": true
   },
   "outputs": [],
   "source": [
    "with h5py.File('ResNet50_train_data.h5') as h:\n",
    "    h.create_dataset(\"train\",data=X_train)\n",
    "    h.create_dataset(\"valid\", data=X_valid)\n",
    "    h.create_dataset(\"y_train\", data=y_train)\n",
    "    h.create_dataset(\"y_valid\", data=y_valid)"
   ]
  },
  {
   "cell_type": "markdown",
   "metadata": {},
   "source": [
    "# 模型训练"
   ]
  },
  {
   "cell_type": "code",
   "execution_count": 8,
   "metadata": {},
   "outputs": [
    {
     "name": "stdout",
     "output_type": "stream",
     "text": [
      "Train on 22500 samples, validate on 2500 samples\n",
      "Epoch 1/20\n",
      "22500/22500 [==============================] - 960s - loss: 0.1099 - acc: 0.9574 - val_loss: 0.0736 - val_acc: 0.9752\n",
      "Epoch 2/20\n",
      "22500/22500 [==============================] - 934s - loss: 0.0786 - acc: 0.9704 - val_loss: 0.0453 - val_acc: 0.9816\n",
      "Epoch 3/20\n",
      "22500/22500 [==============================] - 933s - loss: 0.0780 - acc: 0.9716 - val_loss: 0.0436 - val_acc: 0.9836\n",
      "Epoch 4/20\n",
      "22500/22500 [==============================] - 932s - loss: 0.0786 - acc: 0.9713 - val_loss: 0.0454 - val_acc: 0.9820\n",
      "Epoch 5/20\n",
      "22500/22500 [==============================] - 932s - loss: 0.0730 - acc: 0.9728 - val_loss: 0.0452 - val_acc: 0.9816\n",
      "Epoch 6/20\n",
      "22500/22500 [==============================] - 934s - loss: 0.0738 - acc: 0.9725 - val_loss: 0.0414 - val_acc: 0.9812\n",
      "Epoch 7/20\n",
      "22500/22500 [==============================] - 932s - loss: 0.0707 - acc: 0.9739 - val_loss: 0.0558 - val_acc: 0.9824\n",
      "Epoch 8/20\n",
      "22500/22500 [==============================] - 933s - loss: 0.0747 - acc: 0.9734 - val_loss: 0.0403 - val_acc: 0.9840\n",
      "Epoch 9/20\n",
      "22500/22500 [==============================] - 932s - loss: 0.0751 - acc: 0.9724 - val_loss: 0.0473 - val_acc: 0.9816\n",
      "Epoch 10/20\n",
      "22500/22500 [==============================] - 932s - loss: 0.0789 - acc: 0.9717 - val_loss: 0.0463 - val_acc: 0.9836\n",
      "Epoch 11/20\n",
      "22500/22500 [==============================] - 932s - loss: 0.0754 - acc: 0.9716 - val_loss: 0.0429 - val_acc: 0.9832\n",
      "Epoch 12/20\n",
      "22500/22500 [==============================] - 932s - loss: 0.0721 - acc: 0.9738 - val_loss: 0.0449 - val_acc: 0.9836\n",
      "Epoch 13/20\n",
      "22500/22500 [==============================] - 932s - loss: 0.0741 - acc: 0.9735 - val_loss: 0.0433 - val_acc: 0.9820\n",
      "Epoch 14/20\n",
      "22500/22500 [==============================] - 932s - loss: 0.0680 - acc: 0.9745 - val_loss: 0.0419 - val_acc: 0.9852\n"
     ]
    }
   ],
   "source": [
    "early_stopping = EarlyStopping(monitor='val_loss', patience=5)\n",
    "save_model = ModelCheckpoint('ResNet50{epoch:02d}-{val_loss:.2f}.h5', save_best_only=True)\n",
    "\n",
    "\n",
    "model.compile(optimizer='adam',loss='binary_crossentropy',metrics=['accuracy'])\n",
    "\n",
    "history = model.fit(X_train, y_train, batch_size=16, epochs=20, validation_data=(X_valid, y_valid),\n",
    "                    callbacks=[early_stopping,save_model])"
   ]
  },
  {
   "cell_type": "code",
   "execution_count": 30,
   "metadata": {
    "collapsed": true
   },
   "outputs": [],
   "source": [
    "import matplotlib.pyplot as plt"
   ]
  },
  {
   "cell_type": "code",
   "execution_count": 31,
   "metadata": {},
   "outputs": [
    {
     "data": {
      "image/png": "[encoded data removed]",
      "text/plain": [
       "<matplotlib.figure.Figure at 0x7f8190ffdcc0>"
      ]
     },
     "metadata": {},
     "output_type": "display_data"
    }
   ],
   "source": [
    "plt.plot(history.history['val_acc'])\n",
    "plt.title('model accuracy')\n",
    "plt.ylabel('accuracy')\n",
    "plt.xlabel('epoch')\n",
    "plt.legend(['train', 'test'], loc='upper left')\n",
    "plt.show()"
   ]
  },
  {
   "cell_type": "code",
   "execution_count": 32,
   "metadata": {},
   "outputs": [
    {
     "data": {
      "image/png": "[encoded data removed]",
      "text/plain": [
       "<matplotlib.figure.Figure at 0x7f819058ab38>"
      ]
     },
     "metadata": {},
     "output_type": "display_data"
    }
   ],
   "source": [
    "plt.plot(history.history['loss'])\n",
    "plt.plot(history.history['val_loss'])\n",
    "plt.title('model loss')\n",
    "plt.ylabel('loss')\n",
    "plt.xlabel('epoch')\n",
    "plt.legend(['train', 'test'], loc='upper left')\n",
    "plt.show()"
   ]
  },
  {
   "cell_type": "markdown",
   "metadata": {},
   "source": [
    "## 保存模型"
   ]
  },
  {
   "cell_type": "code",
   "execution_count": 6,
   "metadata": {},
   "outputs": [
    {
     "data": {
      "text/plain": [
       "81619"
      ]
     },
     "execution_count": 6,
     "metadata": {},
     "output_type": "execute_result"
    }
   ],
   "source": [
    "json_string = model.to_json()\n",
    "open('ResNet50.json','w').write(json_string)"
   ]
  },
  {
   "cell_type": "markdown",
   "metadata": {
    "collapsed": true
   },
   "source": [
    "# 预测结果"
   ]
  },
  {
   "cell_type": "code",
   "execution_count": 7,
   "metadata": {
    "collapsed": true
   },
   "outputs": [],
   "source": [
    "model = model_from_json(open('ResNet50.json').read())    \n",
    "model.load_weights('ResNet5007-0.04.h5')"
   ]
  },
  {
   "cell_type": "code",
   "execution_count": 10,
   "metadata": {},
   "outputs": [
    {
     "name": "stderr",
     "output_type": "stream",
     "text": [
      "100%|██████████| 12500/12500 [01:35<00:00, 130.58it/s]\n"
     ]
    }
   ],
   "source": [
    "filenames = os.listdir('../test')\n",
    "file_ob_path = [os.path.join('../test',file) for file in filenames]\n",
    "n = len(file_ob_path)\n",
    "\n",
    "X_test = np.zeros((n, 224, 224, 3), dtype=np.float32)\n",
    "\n",
    "for i in tqdm(range(n)):\n",
    "    X_test[i] = misc.imresize(misc.imread(file_ob_path[i]), (224,224))"
   ]
  },
  {
   "cell_type": "code",
   "execution_count": 11,
   "metadata": {
    "collapsed": true
   },
   "outputs": [],
   "source": [
    "X_test = X_test[..., ::-1]\n",
    "X_test[..., 0] -= 103.939\n",
    "X_test[..., 1] -= 116.779\n",
    "X_test[..., 2] -= 123.68"
   ]
  },
  {
   "cell_type": "code",
   "execution_count": 12,
   "metadata": {},
   "outputs": [
    {
     "name": "stdout",
     "output_type": "stream",
     "text": [
      "12500/12500 [==============================] - 534s   \n"
     ]
    }
   ],
   "source": [
    "y_pred = model.predict(X_test,batch_size=16, verbose=1)"
   ]
  },
  {
   "cell_type": "code",
   "execution_count": 13,
   "metadata": {
    "collapsed": true
   },
   "outputs": [],
   "source": [
    "y_pred = y_pred.clip(min=0.005, max=0.995)\n",
    "_id = [int(i.split('.')[0]) for i in filenames]"
   ]
  },
  {
   "cell_type": "code",
   "execution_count": 14,
   "metadata": {
    "collapsed": true
   },
   "outputs": [],
   "source": [
    "df = pd.DataFrame({'id':_id,'label':y_pred.squeeze()})\n",
    "df = df.sort_values(by='id')\n",
    "df.to_csv('sample_submission_Res.csv',index=False)"
   ]
  },
  {
   "cell_type": "code",
   "execution_count": 15,
   "metadata": {
    "collapsed": true
   },
   "outputs": [],
   "source": [
    "# 0.06022"
   ]
  },
  {
   "cell_type": "markdown",
   "metadata": {},
   "source": [
    "# Fine-tune"
   ]
  },
  {
   "cell_type": "code",
   "execution_count": 21,
   "metadata": {
    "collapsed": true
   },
   "outputs": [],
   "source": [
    "with h5py.File('ResNet50_train_data.h5','r') as h:\n",
    "    X_train = np.array(h['train'])\n",
    "    y_train = np.array(h['y_train'])\n",
    "    X_valid = np.array(h['valid'])\n",
    "    y_valid = np.array(h['y_valid'])"
   ]
  },
  {
   "cell_type": "code",
   "execution_count": 17,
   "metadata": {
    "collapsed": true
   },
   "outputs": [],
   "source": [
    "model = model_from_json(open('ResNet50.json').read())    \n",
    "model.load_weights('ResNet5007-0.04.h5')"
   ]
  },
  {
   "cell_type": "code",
   "execution_count": 18,
   "metadata": {
    "collapsed": true
   },
   "outputs": [],
   "source": [
    "for layer in model.layers[:140]:\n",
    "    layer.trainable = False\n",
    "for layer in model.layers[140:]:\n",
    "    layer.trainable = True"
   ]
  },
  {
   "cell_type": "code",
   "execution_count": 19,
   "metadata": {
    "collapsed": true
   },
   "outputs": [],
   "source": [
    "from keras.optimizers import Adam\n",
    "from keras.callbacks import EarlyStopping,ReduceLROnPlateau,ModelCheckpoint"
   ]
  },
  {
   "cell_type": "code",
   "execution_count": 22,
   "metadata": {
    "collapsed": true
   },
   "outputs": [],
   "source": [
    "early_stopping = EarlyStopping(monitor='val_loss', patience=3)\n",
    "auto_lr = ReduceLROnPlateau(monitor='val_loss', factor=0.1, patience=3, verbose=0, \n",
    "                            mode='auto', epsilon=0.0001, cooldown=0, min_lr=0)\n",
    "save_model = ModelCheckpoint('resnet50_ft{epoch:02d}-{val_loss:.2f}.h5', save_best_only=True)\n",
    "optimizer=Adam()\n",
    "model.compile(optimizer,loss='binary_crossentropy',metrics=['accuracy'])"
   ]
  },
  {
   "cell_type": "code",
   "execution_count": 23,
   "metadata": {},
   "outputs": [
    {
     "name": "stdout",
     "output_type": "stream",
     "text": [
      "Train on 22500 samples, validate on 2500 samples\n",
      "Epoch 1/10\n",
      "22500/22500 [==============================] - 1401s - loss: 0.0693 - acc: 0.9756 - val_loss: 0.0336 - val_acc: 0.9872\n",
      "Epoch 2/10\n",
      "22500/22500 [==============================] - 1328s - loss: 0.0329 - acc: 0.9878 - val_loss: 0.0302 - val_acc: 0.9872\n",
      "Epoch 3/10\n",
      "22500/22500 [==============================] - 1327s - loss: 0.0222 - acc: 0.9924 - val_loss: 0.0361 - val_acc: 0.9848\n",
      "Epoch 4/10\n",
      "22500/22500 [==============================] - 1327s - loss: 0.0178 - acc: 0.9943 - val_loss: 0.0355 - val_acc: 0.9840\n",
      "Epoch 5/10\n",
      "22500/22500 [==============================] - 1327s - loss: 0.0138 - acc: 0.9961 - val_loss: 0.0367 - val_acc: 0.9840\n",
      "Epoch 6/10\n",
      "22500/22500 [==============================] - 1328s - loss: 0.0132 - acc: 0.9961 - val_loss: 0.0469 - val_acc: 0.9872\n"
     ]
    },
    {
     "data": {
      "text/plain": [
       "<keras.callbacks.History at 0x7f0e6271fb38>"
      ]
     },
     "execution_count": 23,
     "metadata": {},
     "output_type": "execute_result"
    }
   ],
   "source": [
    "model.fit(X_train, y_train, batch_size=16, epochs=10, validation_data=(X_valid, y_valid),\n",
    "          callbacks=[early_stopping,auto_lr,save_model])"
   ]
  },
  {
   "cell_type": "code",
   "execution_count": 35,
   "metadata": {},
   "outputs": [
    {
     "data": {
      "image/png": "[encoded data removed]",
      "text/plain": [
       "<matplotlib.figure.Figure at 0x7f81905af630>"
      ]
     },
     "metadata": {},
     "output_type": "display_data"
    }
   ],
   "source": [
    "plt.plot(history.history['val_acc'])\n",
    "plt.title('model accuracy')\n",
    "plt.ylabel('accuracy')\n",
    "plt.xlabel('epoch')\n",
    "plt.legend(['train', 'test'], loc='upper left')\n",
    "plt.show()"
   ]
  },
  {
   "cell_type": "code",
   "execution_count": 36,
   "metadata": {},
   "outputs": [
    {
     "data": {
      "image/png": "[encoded data removed]",
      "text/plain": [
       "<matplotlib.figure.Figure at 0x7f81906fd7b8>"
      ]
     },
     "metadata": {},
     "output_type": "display_data"
    }
   ],
   "source": [
    "plt.plot(history.history['loss'])\n",
    "plt.plot(history.history['val_loss'])\n",
    "plt.title('model loss')\n",
    "plt.ylabel('loss')\n",
    "plt.xlabel('epoch')\n",
    "plt.legend(['train', 'test'], loc='upper left')\n",
    "plt.show()"
   ]
  },
  {
   "cell_type": "code",
   "execution_count": null,
   "metadata": {
    "collapsed": true
   },
   "outputs": [],
   "source": [
    "# 加载最佳模型"
   ]
  },
  {
   "cell_type": "code",
   "execution_count": 24,
   "metadata": {
    "collapsed": true
   },
   "outputs": [],
   "source": [
    "model = model_from_json(open('ResNet50.json').read())    \n",
    "model.load_weights('resnet50_ft01-0.03.h5')"
   ]
  },
  {
   "cell_type": "code",
   "execution_count": 25,
   "metadata": {},
   "outputs": [
    {
     "name": "stdout",
     "output_type": "stream",
     "text": [
      "12500/12500 [==============================] - 602s   \n"
     ]
    }
   ],
   "source": [
    "y_pred = model.predict(X_test,batch_size=16, verbose=1)"
   ]
  },
  {
   "cell_type": "code",
   "execution_count": 26,
   "metadata": {
    "collapsed": true
   },
   "outputs": [],
   "source": [
    "y_pred = y_pred.clip(min=0.005, max=0.995)\n",
    "_id = [int(i.split('.')[0]) for i in filenames]"
   ]
  },
  {
   "cell_type": "code",
   "execution_count": 27,
   "metadata": {
    "collapsed": true
   },
   "outputs": [],
   "source": [
    "df = pd.DataFrame({'id':_id,'label':y_pred.squeeze()})\n",
    "df = df.sort_values(by='id')\n",
    "df.to_csv('sample_submission_res_ft.csv',index=False)"
   ]
  },
  {
   "cell_type": "code",
   "execution_count": null,
   "metadata": {
    "collapsed": true
   },
   "outputs": [],
   "source": [
    "# 微调后的结果0.05376"
   ]
  }
 ],
 "metadata": {
  "kernelspec": {
   "display_name": "Python 3",
   "language": "python",
   "name": "python3"
  },
  "language_info": {
   "codemirror_mode": {
    "name": "ipython",
    "version": 3
   },
   "file_extension": ".py",
   "mimetype": "text/x-python",
   "name": "python",
   "nbconvert_exporter": "python",
   "pygments_lexer": "ipython3",
   "version": "3.6.2"
  }
 },
 "nbformat": 4,
 "nbformat_minor": 2
}
